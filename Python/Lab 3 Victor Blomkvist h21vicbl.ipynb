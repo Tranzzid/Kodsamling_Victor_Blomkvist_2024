{
 "cells": [
  {
   "cell_type": "markdown",
   "metadata": {},
   "source": [
    "# GMI26H HT23 Cryptography\n",
    "\n",
    "## Compulsory Homework Lab 3\n",
    "\n",
    "### (c) Joonas Pääkkönen\n",
    "\n",
    "### See the study guide for the deadline. This also encourages you to read the study guide once more.\n",
    "\n",
    "Write your name and email below. Don't edit the header or the questions or anything else other than by adding your name and email below.\n",
    "\n",
    "### Student name: Victor Blomkvist\n",
    "\n",
    "### DU email address: h21vicbl@du.se\n",
    "\n",
    "Remember that you *must* submit your home exam answers both in .ipynb format and .pdf format. To practice converting your home exam answer file from .ipynb into .pdf, this Homework Lab 3 must be submitted to Learn in both these file formats. There are separate folders on Learn for both versions. As .ipynb files do not have lengths in pages (because they are just single long files), the page count requirements only adhere to the .pdf version.\n",
    "\n",
    "The home exam will include page count restrictions. For instance, the home exam may include an essay and the maximum length of the essay could be, e.g., 2 pages. However, this lab has no page length restriction, though you should not need many pages to execute these tasks here. The requirement to submit this lab also in .pdf format is just to let you practice converting from .ipynb into .pdf, so you will not need to worry about this during the home exam.\n",
    "\n",
    "The .ipynb version is used by the examinor to run your code to check that the code runs and works if you have included calculations in Python/Sage, while the .pdf version is used to check the page count, and also to check that you have not submitted a plagiarized version of the home exam. The plagiarism detection tool on Learn understand .pdf but not .ipynb.\n",
    "\n",
    "The home exam will include some math, so it is good to practice writing some math in this lab. Knowing LaTeX is not a requirement but it may make the few equations that may be needed in your answers prettier, e.g. you may write \"$a^2 = b \\mod 3$\" or \"$a^2 = b \\text{ mod } 3$\" instead of \"a^2 = b mod 3\".\n",
    "\n",
    "Add Markdown/LaTeX cells and/or Python/Sage cells below each task (and subtask a), b), and so on) and fill them out with your answers (text and/or code)."
   ]
  },
  {
   "cell_type": "markdown",
   "metadata": {},
   "source": [
    "## Task 1\n",
    "\n",
    "Estimate the amount of time it would take for Python and your personal computer system to loop through all possible AES-128 keys. Assume that a new key is updated (saved in a memory location) in each iteration of a loop. \n",
    "\n",
    "**Note**: You must write some code here, not only guess this amount of time, so you must motivate your answer with the help of your code."
   ]
  },
  {
   "cell_type": "code",
   "execution_count": 55,
   "metadata": {},
   "outputs": [
    {
     "name": "stdout",
     "output_type": "stream",
     "text": [
      "Number of looped keys =  33554432\n",
      "The time elapsed in the loop =  5.0\n",
      "Number of looped keys =  10141204801825835211973625643008\n",
      "The estimated time in years to loop through all AES-128 keys = 47918482829727504\n"
     ]
    }
   ],
   "source": [
    "import time\n",
    "\n",
    "startTime = time.time()\n",
    "aesKeys = 0\n",
    "\n",
    "for i in range(0, 2**25):\n",
    "    aesKeys += 1\n",
    "\n",
    "endTime = time.time()\n",
    "elapsedTime = endTime - startTime\n",
    "elapsedTime = round(elapsedTime)\n",
    "\n",
    "print(\"Number of looped keys = \",aesKeys)\n",
    "print(\"The time elapsed in the loop = \", elapsedTime)\n",
    "\n",
    "for i in range(25, 103):\n",
    "    aesKeys = aesKeys * 2\n",
    "    elapsedTime = elapsedTime * 2\n",
    "elapsedTimeInDays = elapsedTime / 86400\n",
    "elapsedTimeInYears = elapsedTimeInDays / 365\n",
    "\n",
    "print(\"Number of looped keys = \", aesKeys)\n",
    "print(\"The estimated time in years to loop through all AES-128 keys = \" +\"%.0f\" % elapsedTimeInYears)"
   ]
  },
  {
   "cell_type": "markdown",
   "metadata": {},
   "source": [
    "## Task 2\n",
    "\n",
    "Explain why each of the following statements is true. You maybe use, e.g., Sage to support your explanations.\n",
    "\n",
    "a) $\\phi(\\phi(13))=4$"
   ]
  },
  {
   "cell_type": "markdown",
   "metadata": {},
   "source": [
    "Since 13 is a prime number,  $\\phi(13)$ = 12. 12 is not a prime so $\\phi(12)$ = 4. This is because only the numbers 1,5,7,11 are co-prime to 12"
   ]
  },
  {
   "cell_type": "markdown",
   "metadata": {},
   "source": [
    "b) $256 | 4^{128}$"
   ]
  },
  {
   "cell_type": "markdown",
   "metadata": {},
   "source": [
    "256 = $2^8$ = $(2^2)^4$ = $4^4$ $=>$ $4^{128} / 4^4$ = $4^{128 - 4}$ = $4^{124}$"
   ]
  },
  {
   "cell_type": "markdown",
   "metadata": {},
   "source": [
    "c) If $a$ and $b$ are prime, then $c=ab+1$ not necessarily prime."
   ]
  },
  {
   "cell_type": "markdown",
   "metadata": {},
   "source": [
    "A prime number are allways odd, except for the prime number 2. \n",
    "Two odd numbers multiplied with eachother will allways result in a odd number.\n",
    "2k+1 = odd.\n",
    "2k+1*2k+1 = $4k^2$ + 2k + 2k + 1 = $4k^2$ + 4k + 1 = $k^2$ + 1 = odd\n",
    "\n",
    "So if you take a prime number, except for 2, and multiply it with another prime, the result will be odd.\n",
    "So if you add 1 to an odd number the result will be even."
   ]
  },
  {
   "cell_type": "code",
   "execution_count": 56,
   "metadata": {},
   "outputs": [
    {
     "name": "stdout",
     "output_type": "stream",
     "text": [
      "22\n"
     ]
    }
   ],
   "source": [
    "a = 3\n",
    "b = 7\n",
    "\n",
    "c = a * b + 1\n",
    "\n",
    "print(c)"
   ]
  },
  {
   "cell_type": "markdown",
   "metadata": {},
   "source": [
    "## Task 3\n",
    "\n",
    "The enemy is poor and can only afford small semiprime RSA moduli $n=pq$.\n",
    "\n",
    "a) Use Python/Sage to factorize the enemy's modulus $n=2778546901342097$ into its prime factors $p$ and $q$."
   ]
  },
  {
   "cell_type": "code",
   "execution_count": 57,
   "metadata": {},
   "outputs": [
    {
     "name": "stdout",
     "output_type": "stream",
     "text": [
      "p = 15485867 and q = 179424691\n"
     ]
    }
   ],
   "source": [
    "n = 2778546901342097\n",
    "\n",
    "primeFactors = factor(n)\n",
    "\n",
    "p = primeFactors[0][0]\n",
    "q = primeFactors[1][0]\n",
    "\n",
    "print(f\"p = {p} and q = {q}\")"
   ]
  },
  {
   "cell_type": "markdown",
   "metadata": {},
   "source": [
    "b) Use the $p$ and $q$ that you found in a) to find $\\phi(n)$. In other words, how can you directly find $\\phi(n)$ without knowing $n$?"
   ]
  },
  {
   "cell_type": "code",
   "execution_count": 58,
   "metadata": {},
   "outputs": [
    {
     "name": "stdout",
     "output_type": "stream",
     "text": [
      "2778546706431540\n",
      "2778546706431540\n"
     ]
    }
   ],
   "source": [
    "phi = (p-1)*(q-1)\n",
    "phi2 = euler_phi(n)\n",
    "print(phi)\n",
    "print(phi2)"
   ]
  },
  {
   "cell_type": "markdown",
   "metadata": {},
   "source": [
    "c) The enemy seems to be using the RSA modulus $n=2778546901342097$ as in a) above and the public exponent $e=65537$. Use the Extended Euclidean algorithm to find the private exponent $d$. You can use, e.g., the built-in Sage function for the Extended Euclidean algorithm."
   ]
  },
  {
   "cell_type": "code",
   "execution_count": 59,
   "metadata": {},
   "outputs": [
    {
     "name": "stdout",
     "output_type": "stream",
     "text": [
      "This is inverse of e:  1330108882324133\n",
      "This is inverse of e:  1330108882324133\n",
      "This is inverse of e using Xgcd:  1330108882324133\n",
      "d =  1330108882324133\n"
     ]
    }
   ],
   "source": [
    "e = 65537\n",
    "n = 2778546901342097\n",
    "\n",
    "eInverse = inverse_mod(e,euler_phi(n))\n",
    "\n",
    "print(\"This is inverse of e: \", eInverse)\n",
    "d,u,v = xgcd(euler_phi(n),e)\n",
    "inverse = v%n\n",
    "\n",
    "print(\"This is inverse of e: \", eInverse)\n",
    "print(\"This is inverse of e using Xgcd: \", inverse)\n",
    "d = inverse%phi\n",
    "print(\"d = \",d)\n"
   ]
  },
  {
   "cell_type": "markdown",
   "metadata": {},
   "source": [
    "d) Based on the the information you have found so far, decrypt $319111435225580$."
   ]
  },
  {
   "cell_type": "code",
   "execution_count": 60,
   "metadata": {},
   "outputs": [
    {
     "name": "stdout",
     "output_type": "stream",
     "text": [
      "The decrypted message M =  12345\n"
     ]
    }
   ],
   "source": [
    "C = 319111435225580\n",
    "e = 65537\n",
    "n = 2778546901342097\n",
    "d = 1330108882324133\n",
    "\n",
    "M = pow(C,d,n)\n",
    "\n",
    "print(\"The decrypted message M = \", M)"
   ]
  },
  {
   "cell_type": "markdown",
   "metadata": {},
   "source": [
    "e) Briedly explain why $e=65537$ is a good choice for $e$."
   ]
  },
  {
   "cell_type": "code",
   "execution_count": 61,
   "metadata": {},
   "outputs": [
    {
     "name": "stdout",
     "output_type": "stream",
     "text": [
      "0b10000000000000001\n"
     ]
    }
   ],
   "source": [
    "print(bin(65537))"
   ]
  },
  {
   "cell_type": "markdown",
   "metadata": {},
   "source": [
    "The number 65537 is a good choice for e because it is a lighweihgt representation in binary form. This makes it easy for computation."
   ]
  },
  {
   "cell_type": "markdown",
   "metadata": {},
   "source": [
    "## Task 4\n",
    "\n",
    "Encrypt the string \"casioneroyale\" with the Playfair cipher. Use your first name as the keyword. Ignore Scandinavian letters etc. so that you only use the 26 letters of English. You can choose I/J by yourself if needed. First give your first name that you use as the keyword so that we can check that the solution is correct.\n",
    "\n",
    "Your name/keyword: Victor"
   ]
  },
  {
   "cell_type": "raw",
   "metadata": {},
   "source": [
    "m = casioneroyale\n",
    "ca si on er oy al ex\n",
    "\n",
    "    1   2   3   4   5\n",
    "1   V  I/J  C   T   O\n",
    "2   R   A   B   D   E\n",
    "3   F   G   H   K   L\n",
    "4   M   N   P   Q   S\n",
    "5   U   W   X   Y   Z\n",
    "\n",
    "CA SI ON ER OY AL EX\n",
    "IB NO IS RA TZ EG BZ\n",
    "\n",
    "c = ibnoisratzegbz\n"
   ]
  },
  {
   "cell_type": "markdown",
   "metadata": {},
   "source": [
    "## Task 5\n",
    "\n",
    "a) Briefly explain in your own words how the Blum Blum Shub algorithm works."
   ]
  },
  {
   "cell_type": "markdown",
   "metadata": {},
   "source": [
    "1. Generate two large Blum primes p and q that satisfy p ≠ q and set M = pq\n",
    "2. Choose a number s that lies between 1 and M-1, so that GCD(s, M) = 1\n",
    "3. Set $x_0$ to $s^2 mod M$\n",
    "4. The sequence then becomes $x_i$ = $(x_{i-1})^2 mod M$ , for i = 1, 2, …\n",
    "5. The output signal used will be $z_1$, $z_2$, … where $z_i$ = the parity bit $(x_i)$ (ie 1 if $z_i$ is odd 0 and 1 if $z_i$ is even)"
   ]
  },
  {
   "cell_type": "markdown",
   "metadata": {},
   "source": [
    "b) Use Python/Sage to implement a Blum Blum Shub random number generator and use it to generate an AES-256 key in binary format. You are free to choose or generate the seed $s$ and the modulus $n$, but you must motivate your choices. Why would you recommend the Blum Blum Shub (with your chosen $s$ and your chosen $n$) to a friend? Why would you not recommend it?"
   ]
  },
  {
   "cell_type": "code",
   "execution_count": 62,
   "metadata": {
    "scrolled": true
   },
   "outputs": [
    {
     "name": "stdout",
     "output_type": "stream",
     "text": [
      "7\n",
      "11\n",
      "19\n",
      "23\n",
      "31\n",
      "43\n",
      "47\n",
      "59\n",
      "67\n",
      "71\n",
      "79\n",
      "83\n",
      "[1, 1, 0, 1, 1, 1, 1, 1, 1, 1, 0, 1, 1, 1, 0, 1, 1, 1, 1, 1, 1, 1, 0, 1, 1, 1, 0, 1, 1, 1, 1, 1, 1, 1, 0, 1, 1, 1, 0, 1, 1, 1, 1, 1, 1, 1, 0, 1, 1, 1, 0, 1, 1, 1, 1, 1, 1, 1, 0, 1, 1, 1, 0, 1, 1, 1, 1, 1, 1, 1, 0, 1, 1, 1, 0, 1, 1, 1, 1, 1, 1, 1, 0, 1, 1, 1, 0, 1, 1, 1, 1, 1, 1, 1, 0, 1, 1, 1, 0, 1, 1, 1, 1, 1, 1, 1, 0, 1, 1, 1, 0, 1, 1, 1, 1, 1, 1, 1, 0, 1, 1, 1, 0, 1, 1, 1, 1, 1, 1, 1, 0, 1, 1, 1, 0, 1, 1, 1, 1, 1, 1, 1, 0, 1, 1, 1, 0, 1, 1, 1, 1, 1, 1, 1, 0, 1, 1, 1, 0, 1, 1, 1, 1, 1, 1, 1, 0, 1, 1, 1, 0, 1, 1, 1, 1, 1, 1, 1, 0, 1, 1, 1, 0, 1, 1, 1, 1, 1, 1, 1, 0, 1, 1, 1, 0, 1, 1, 1, 1, 1, 1, 1, 0, 1, 1, 1, 0, 1, 1, 1, 1, 1, 1, 1, 0, 1, 1, 1, 0, 1, 1, 1, 1, 1, 1, 1, 0, 1, 1, 1, 0, 1, 1, 1, 1, 1, 1, 1, 0, 1, 1, 1, 0, 1, 1, 1, 1, 1, 1, 1, 0, 1, 1, 1, 0, 1]\n"
     ]
    }
   ],
   "source": [
    "from sage.crypto.util import has_blum_prime\n",
    "from sage.crypto.util import is_blum_prime\n",
    "def blum_blum_shub(seed, modulus, amount):\n",
    "    generatedList = []\n",
    "    x = seed\n",
    "    for i in range(amount):\n",
    "        x = x*x % modulus\n",
    "        generatedValue = x % 2\n",
    "        generatedList.append(generatedValue)\n",
    "        \n",
    "    return generatedList\n",
    "\n",
    "has_blum_prime(4, 100)\n",
    "for i in range(4, 100):\n",
    "    if is_blum_prime(i):\n",
    "        print(i)\n",
    "        \n",
    "\n",
    "m = 79 * 31\n",
    "s = 7\n",
    "a = 256\n",
    "print(blum_blum_shub(s,m,a))"
   ]
  },
  {
   "cell_type": "markdown",
   "metadata": {},
   "source": [
    "OBS! DO NOT USE THIS FUNCTION! IT DOES NOT MEET THE REQUIREMENTS FOR HIGH VALUE OF P & Q PLUS THE CONDITION FOR S BEING CO-PRIME TO M IS NOT CHECKED!"
   ]
  }
 ],
 "metadata": {
  "kernelspec": {
   "display_name": "SageMath 9.3",
   "language": "sage",
   "name": "sagemath"
  },
  "language_info": {
   "codemirror_mode": {
    "name": "ipython",
    "version": 3
   },
   "file_extension": ".py",
   "mimetype": "text/x-python",
   "name": "python",
   "nbconvert_exporter": "python",
   "pygments_lexer": "ipython3",
   "version": "3.7.10"
  }
 },
 "nbformat": 4,
 "nbformat_minor": 5
}
