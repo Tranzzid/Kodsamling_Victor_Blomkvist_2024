{
 "cells": [
  {
   "cell_type": "markdown",
   "metadata": {},
   "source": [
    "# GMI24H- Algorithms and software design\n",
    "## Dalarna University, spring 2023\n",
    "\n",
    "# Python Lab on Recursion\n",
    "### Deadline: 28th May 2023 (Sunday), 23:59 CET time\n",
    "\n",
    "### Student name: Victor Blomkvist\n",
    "### DU email address: h21vicbl@du.se"
   ]
  },
  {
   "cell_type": "markdown",
   "metadata": {},
   "source": [
    "To pass the lab, you will need to write and hand in this Jupyter Notebook with your comments and your Python code added to it. Describe what you did and what conclusions you have been able to make. Try to relate to the theoretical material on the course. Use Markdown cells to add descriptions in English. Also add comments to your Python code cells.\n",
    "\n",
    "Submit the lab to Learn with file name format “Recursion firstname lastname studentid.ipynb”, e.g., “Recursion lars larsson v21abcde.ipynb”.\n",
    "\n",
    "A folder to upload solutions will be opened on Learn soon."
   ]
  },
  {
   "cell_type": "markdown",
   "metadata": {},
   "source": [
    "## Task 1\n",
    "\n",
    "Write a program in python to recursively find the Fibonacci series of $n$.\n",
    "\n",
    "Take $n= 5$"
   ]
  },
  {
   "cell_type": "code",
   "execution_count": 1,
   "metadata": {},
   "outputs": [
    {
     "name": "stdout",
     "output_type": "stream",
     "text": [
      "1\n",
      "1\n",
      "2\n",
      "3\n",
      "5\n",
      "8\n"
     ]
    }
   ],
   "source": [
    "# Write your code here\n",
    "\n",
    "def Fibonacci(n):\n",
    "    if n < 2:\n",
    "        return 1\n",
    "    \n",
    "    return Fibonacci(n-1) + Fibonacci(n-2)\n",
    "\n",
    "\n",
    "for i in range(6):\n",
    "    print(Fibonacci(i))"
   ]
  },
  {
   "cell_type": "markdown",
   "metadata": {},
   "source": [
    "## Task 2\n",
    "Given a list of integers, write a recursive function to find all possible combinations of the integers that add up to a given target sum.\n",
    "\n",
    "To clarify the problem, you need to find all unique combinations of the integers in the list that sum up to the target sum. Each number in the list can be used multiple times in a combination, and the same number can appear multiple times in the solution set.\n",
    "\n",
    "For example:\n",
    "Input: candidates = [2, 3, 6, 7], target = 7\n",
    "Output: [[2, 2, 3], [7]]\n",
    "\n",
    "In this example, the combinations that sum up to 7 are [2, 2, 3] and [7].\n",
    "\n",
    "Your task is to write a recursive function that takes the list of integers and the target sum as inputs and returns a list of all possible combinations.\n",
    "\n",
    "Note: This problem can also be solved using an iterative approach, but the challenge here is to implement a recursive solution"
   ]
  },
  {
   "cell_type": "code",
   "execution_count": null,
   "metadata": {},
   "outputs": [],
   "source": []
  },
  {
   "cell_type": "code",
   "execution_count": 3,
   "metadata": {},
   "outputs": [
    {
     "name": "stdout",
     "output_type": "stream",
     "text": [
      "[[1, 1, 1, 1, 1], [1, 1, 1, 2], [1, 1, 3], [1, 2, 2], [1, 4], [2, 3], [5]]\n"
     ]
    }
   ],
   "source": [
    "# Write your code here\n",
    "\n",
    "def Find_Combination_Of_Target(my_list, target):\n",
    "    if target == 0:\n",
    "        return [[]]  # Return an empty combination if the target value has reached 0\n",
    "    \n",
    "    if target < 0 or not my_list:\n",
    "        return []  # No valid combination exists\n",
    "    \n",
    "    combinations = []\n",
    "    for i, num in enumerate(my_list): # Iterates over the element in my_list and stores the index in \"i\" and the value in \"num\"\n",
    "        remaining = target - num # Subtracts current value of num from the target value.\n",
    "         \n",
    "        # Recursively calls the function with new argument. my_list are sliced from the current index and onwards and the \"remaining\" being the new target.\n",
    "        sub_combos = Find_Combination_Of_Target(my_list[i:], remaining)\n",
    "        \n",
    "        \n",
    "        # Iterates over each sub_combo and adding the current \"num\" element, then append it to the \"combinations\"-list.\n",
    "        for sub_combo in sub_combos: \n",
    "            combinations.append([num] + sub_combo)\n",
    "        \n",
    "    \n",
    "\n",
    "    return combinations\n",
    "\n",
    "\n",
    "my_list = [1,2,3,4,5,6,7,8,9,10]\n",
    "target = 5\n",
    "result = Find_Combination_Of_Target(my_list, target)\n",
    "print(result)\n",
    "\n"
   ]
  },
  {
   "cell_type": "markdown",
   "metadata": {},
   "source": [
    "The function \"Find_Combination_Of_Target\" takes two arguments, a list of available numbers and a target which we want to find the combinations for.\n",
    "First it checks if the target is 0, then it return an empty combination because we have reached the maximum combinations.\n",
    "It then checks if the target is lower then 0 or not in the list, if it is true it return just an empty list because no combinations are possible.\n",
    "The function then iterates over the element in my_list and stores the index in \"i\" and the value in \"num\" and subtracts current value of num from the target value.\n",
    "\n",
    "Then the recursion happens and calls the function with new argument. my_list are sliced from the current index and onwards and the \"remaining\" being the new target.\n",
    "\n",
    "After the recursion part of the function, it iterates over each sub_combo and adding the current \"num\" element, then append it to the \"combinations\"-list.\n",
    "\n",
    "Finally, it return the combinations as a list that contains another lists of actual combinations."
   ]
  }
 ],
 "metadata": {
  "kernelspec": {
   "display_name": "Python 3 (ipykernel)",
   "language": "python",
   "name": "python3"
  },
  "language_info": {
   "codemirror_mode": {
    "name": "ipython",
    "version": 3
   },
   "file_extension": ".py",
   "mimetype": "text/x-python",
   "name": "python",
   "nbconvert_exporter": "python",
   "pygments_lexer": "ipython3",
   "version": "3.9.13"
  }
 },
 "nbformat": 4,
 "nbformat_minor": 4
}
