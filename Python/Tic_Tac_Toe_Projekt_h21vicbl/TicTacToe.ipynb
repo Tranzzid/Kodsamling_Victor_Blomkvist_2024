{
 "cells": [
  {
   "cell_type": "raw",
   "id": "3b1c5438",
   "metadata": {},
   "source": [
    "0 -> .\n",
    "1 -> O\n",
    "2 -> X\n",
    "\n",
    "1(O) Börjar alltid\n",
    "\n",
    "-------------\n",
    "| . | . | . |\n",
    "----+---+----\n",
    "| . | . | . |\n",
    "----+---+----\n",
    "| . | . | . |\n",
    "-------------"
   ]
  },
  {
   "cell_type": "code",
   "execution_count": 1,
   "id": "d3f79622",
   "metadata": {},
   "outputs": [
    {
     "name": "stdout",
     "output_type": "stream",
     "text": [
      "Populating the interactive namespace from numpy and matplotlib\n"
     ]
    }
   ],
   "source": [
    "%pylab inline\n",
    "\n",
    "from IPython.display import clear_output\n",
    "import copy\n",
    "import pickle\n",
    "import numpy as np\n"
   ]
  },
  {
   "cell_type": "code",
   "execution_count": 2,
   "id": "3c125923",
   "metadata": {},
   "outputs": [
    {
     "name": "stdout",
     "output_type": "stream",
     "text": [
      "{0: '.', 1: 'O', 2: 'X'}\n"
     ]
    }
   ],
   "source": [
    "#dictionary som används för att översätta spelare till brädmarkering \n",
    "markerMapping = {0:\".\",1:\"O\", 2:\"X\"}\n",
    "print(markerMapping)"
   ]
  },
  {
   "cell_type": "code",
   "execution_count": 3,
   "id": "ebe1e005",
   "metadata": {},
   "outputs": [
    {
     "name": "stdout",
     "output_type": "stream",
     "text": [
      "[0, 0, 0, 0, 0, 0, 0, 0, 0]\n"
     ]
    }
   ],
   "source": [
    "#Metod för att generera en tom spelplan\n",
    "def emptyboard():\n",
    "    return [0,0,0,0,0,0,0,0,0]\n",
    "\n",
    "print(emptyboard())"
   ]
  },
  {
   "cell_type": "code",
   "execution_count": 4,
   "id": "03b36039",
   "metadata": {},
   "outputs": [],
   "source": [
    "#Metod som returnerar möjliga drag på ett tomt bräde\n",
    "def getDefultPosibleMoves():\n",
    "    return [0,1,2,3,4,5,6,7,8]"
   ]
  },
  {
   "cell_type": "code",
   "execution_count": 5,
   "id": "51003f90",
   "metadata": {},
   "outputs": [
    {
     "name": "stdout",
     "output_type": "stream",
     "text": [
      "True\n"
     ]
    }
   ],
   "source": [
    "#metod som kollar om någon vunnit, returnerar True vid vinst, annars False\n",
    "def testWin(board):\n",
    "    if((board[0] == board[1] == board[2] ==1) or (board[3] == board[4] == board[5] ==1) or (board[6] == board[7] == board[8] ==1)):\n",
    "        return True\n",
    "    elif((board[0] == board[1] == board[2] ==2) or (board[3] == board[4] == board[5] ==2) or (board[6] == board[7] == board[8] ==2)):\n",
    "        return True\n",
    "    elif((board[0] == board[3] == board[6] ==1) or (board[1] == board[4] == board[7] ==1) or (board[2] == board[5] == board[8] ==1)):\n",
    "        return True\n",
    "    elif((board[0] == board[3] == board[6] ==2) or (board[1] == board[4] == board[7] ==2) or (board[2] == board[5] == board[8] ==2)):\n",
    "        return True\n",
    "    elif((board[0] == board[4] == board[8] ==1) or (board[2] == board[4] == board[6] ==1)):\n",
    "        return True\n",
    "    elif((board[0] == board[4] == board[8] ==2) or (board[2] == board[4] == board[6] ==2)):\n",
    "        return True\n",
    "    else:\n",
    "        return False\n",
    "\n",
    "print(testWin([2,0,1,\n",
    "               0,2,2,\n",
    "               2,0,2]))"
   ]
  },
  {
   "cell_type": "code",
   "execution_count": 6,
   "id": "c530d930",
   "metadata": {},
   "outputs": [],
   "source": [
    "#Hjälpmetoder för att printa en board  \n",
    "\n",
    "def printIndexRow():\n",
    "    print(\"    0   1   2   \")\n",
    "\n",
    "def printSolidRow():\n",
    "    print(\"  -------------\")\n",
    "\n",
    "def printSectionSplitter():\n",
    "    print(\"  ----+---+----\")\n",
    "\n",
    "def printRow(row, index):\n",
    "    if(len(row) != 3):\n",
    "        print(\"Fel rad längd\")\n",
    "        return\n",
    "    print(index,\"|\",row[0], \"|\", row[1], \"|\", row[2], \"|\")\n"
   ]
  },
  {
   "cell_type": "code",
   "execution_count": 7,
   "id": "4b68b0e2",
   "metadata": {},
   "outputs": [
    {
     "name": "stdout",
     "output_type": "stream",
     "text": [
      "    0   1   2   \n",
      "  -------------\n",
      "0 | . | . | . |\n",
      "  ----+---+----\n",
      "1 | . | . | . |\n",
      "  ----+---+----\n",
      "2 | . | . | . |\n",
      "  -------------\n"
     ]
    }
   ],
   "source": [
    "#metod som printar en board \n",
    "def showBoard(board):\n",
    "    \n",
    "    printIndexRow()\n",
    "    printSolidRow()\n",
    "    index =0\n",
    "    for rowIndex in range(0,9,3):\n",
    "        row = [markerMapping[board[(rowIndex)]], markerMapping[board[(rowIndex+1)]], markerMapping[board[rowIndex+2]]]\n",
    "        printRow(row, index)\n",
    "        index = index+1\n",
    "        \n",
    "        if rowIndex <=3 :\n",
    "            printSectionSplitter()                     \n",
    "        else:\n",
    "            printSolidRow()\n",
    "                \n",
    "showBoard(emptyboard())\n"
   ]
  },
  {
   "cell_type": "code",
   "execution_count": 8,
   "id": "3083ee7b",
   "metadata": {},
   "outputs": [
    {
     "name": "stdout",
     "output_type": "stream",
     "text": [
      "1\n"
     ]
    }
   ],
   "source": [
    "#Klass som representerar en spelare \n",
    "class Player:\n",
    "    def __init__(self, name):\n",
    "        self.name= name\n",
    "       \n",
    "    def set_marker(self,marker):\n",
    "        self.marker = marker\n",
    "    \n",
    "    def get_marker(self):\n",
    "        return self.marker\n",
    "\n",
    "test = Player(\"Hans\")\n",
    "test.set_marker(1)\n",
    "print(test.get_marker())"
   ]
  },
  {
   "cell_type": "code",
   "execution_count": 9,
   "id": "75896e72",
   "metadata": {},
   "outputs": [
    {
     "name": "stdout",
     "output_type": "stream",
     "text": [
      "(True, 5)\n"
     ]
    }
   ],
   "source": [
    "#Metod som översätter tangentbordsinmatnig till ett drag på spelplanen (ett index)\n",
    "\n",
    "#     0   1   2   \n",
    "#   -------------\n",
    "# 0 | . | . | . |\n",
    "#   ----+---+----\n",
    "# 1 | . | . | . |\n",
    "#   ----+---+----\n",
    "# 2 | . | . | . |\n",
    "#   -------------\n",
    "\n",
    "def convert_input(data):\n",
    "    try:        \n",
    "        data = data.split(\",\")\n",
    "        data[0] = int(data[0])\n",
    "        data[1] = int(data[1])\n",
    "        #2,2 -> 8 ; 1,1 -> 4\n",
    "        return True, (3*data[0])+data[1]\n",
    "    except:\n",
    "        print(\"Ogiltig indata!\")\n",
    "        return False, -1\n",
    "\n",
    "print(convert_input(\"1,2\"))"
   ]
  },
  {
   "cell_type": "code",
   "execution_count": 10,
   "id": "56fa6b27",
   "metadata": {},
   "outputs": [
    {
     "name": "stdout",
     "output_type": "stream",
     "text": [
      "[0. 1. 0. 0. 0. 0. 0. 0. 0.]\n"
     ]
    }
   ],
   "source": [
    "#Läser in perfectPolicy från fil\n",
    "perfectPolicy=pickle.load(open(\"perfectPolicy.p\",\"rb\"))\n",
    "print(perfectPolicy[(0,0,0,0,0,0,0,0,0)])"
   ]
  },
  {
   "cell_type": "code",
   "execution_count": 11,
   "id": "051d8d19",
   "metadata": {},
   "outputs": [],
   "source": [
    "#metod som genererar en random strategy\n",
    "def makeRandomStrategy():\n",
    "    \n",
    "    #Metod som kollar möjliga drag på ett givet bräde och returnerar en lista med möjliga drag\n",
    "    def getAllMoves(board):\n",
    "        ret=[]\n",
    "        for i in range(9):\n",
    "            if board[i]==0:\n",
    "                ret.append(i)\n",
    "        return ret\n",
    "    \n",
    "    #metod som sätter en given spelarmarkering på en given plats på ett givet bräde och returnrar ett uppdaterat bräde \n",
    "    def doMove(board,move,who):\n",
    "        newBoard=copy.deepcopy(board)\n",
    "        newBoard[move]=who\n",
    "        return newBoard\n",
    "\n",
    "    randomStrategy=dict()\n",
    "\n",
    "    #metod som sparar alla möjliga drag under ett tick tack toe spel som Key i en dictionary \n",
    "    #och som tillhörade värde sparas en lista med sanolikheter för ett specifikt motdrag\n",
    "    #returnerar den färdiga dictionaryn (strategin) \n",
    "    def addPossibleBoards(board,who):\n",
    "        #showBoard(board)\n",
    "        moves=getAllMoves(board)\n",
    "        V=numpy.ones(len(moves))\n",
    "        V=V/V.sum()\n",
    "        if testWin(board)==False and list(board).count(0)!=0:\n",
    "            randomStrategy[tuple(board)]=V\n",
    "        flipMove=[0,2,1]\n",
    "        for move in moves:\n",
    "            newBoard=doMove(board,move,who)\n",
    "            addPossibleBoards(newBoard,flipMove[who])\n",
    "\n",
    "    board=emptyboard()\n",
    "    addPossibleBoards(board,1)\n",
    "    print(\"randomStrategy len:\",len(randomStrategy))\n",
    "\n",
    "    return randomStrategy"
   ]
  },
  {
   "cell_type": "code",
   "execution_count": 12,
   "id": "705fa489",
   "metadata": {
    "scrolled": true
   },
   "outputs": [],
   "source": [
    "#Metod som låter två personer spela mot varandra\n",
    "def multyPlayer(): \n",
    "    board = emptyboard()\n",
    "    players =[]\n",
    "    posibleMoves = getDefultPosibleMoves()\n",
    "    play = True\n",
    "\n",
    "    for i in range(2):\n",
    "        players.append(Player(input(f\"Ange namn på spelare {i+1}: \")))\n",
    "        players[i].set_marker(i+1)\n",
    "\n",
    "    showBoard(board)\n",
    "\n",
    "    while(play):\n",
    "        for player in players:\n",
    "\n",
    "            noLegalMove = True\n",
    "\n",
    "            while(noLegalMove):\n",
    "\n",
    "                success, move = convert_input(input(f\"{player.name} var vill du sätta din markering? (rad, kolumn): \"))\n",
    "\n",
    "                if(success and move in posibleMoves):\n",
    "                    posibleMoves.remove(move)\n",
    "                    board[move] = player.get_marker()\n",
    "                    showBoard(board)\n",
    "                    noLegalMove = False\n",
    "                else:\n",
    "                    print(\"Ogiltigt drag!\")\n",
    "\n",
    "            if(testWin(board)):\n",
    "                print(f\"{player.name} van!\")\n",
    "                play = False\n",
    "                break\n",
    "\n",
    "            if(len(posibleMoves) == 0):\n",
    "                print(\"Slut på drag!\")\n",
    "                print(\"Oavgjort!!\")\n",
    "                play = False\n",
    "                break"
   ]
  },
  {
   "cell_type": "code",
   "execution_count": 13,
   "id": "c1c112d9",
   "metadata": {},
   "outputs": [],
   "source": [
    "#Metod som låter en person spela mot en strategi\n",
    "def singelVsPolicy(policy = perfectPolicy): \n",
    "    # Initierar spelet, skapar upp variabler som behövs. te.x en board, spelarlista och möjliga drag.   \n",
    "    board = emptyboard()\n",
    "    players =[]\n",
    "    posibleMoves = getDefultPosibleMoves()\n",
    "    play = True\n",
    "\n",
    "    # Läser in människans spelarnamn och tilldelar \"1\" som spelarmarkering.\n",
    "    players.append(Player(input(f\"Ange namn på spelare 1: \")))\n",
    "    players[0].set_marker(1)\n",
    "    \n",
    "    # tilldelar namn och \"2\" som spelarmarkering till AI:n.\n",
    "    players.append(Player(\"Ai\"))\n",
    "    players[1].set_marker(2)\n",
    "    \n",
    "    showBoard(board)\n",
    "\n",
    "    while(play):\n",
    "        for player in players:\n",
    "\n",
    "            noLegalMove = True\n",
    "\n",
    "            while(noLegalMove):#Så länge inget giltigt drag har gjorts, så ber vi aktuell spelare att göra ett giltigt drag\n",
    "            \n",
    "                if player.name != \"Ai\":\n",
    "                    # Löser av spelarens drag och konverterar det till ett boardindex.\n",
    "                    success, move = convert_input(input(f\"{player.name} var vill du sätta din markering? (rad, kolumn): \"))\n",
    "\n",
    "                    if(success and move in posibleMoves): # Om giltigt drag\n",
    "                        posibleMoves.remove(move) # Tar bort draget ur listan för tillgängliga drag.\n",
    "                        board[move] = player.get_marker() # Sätter ut spelarmarkering på brädet för det index som valts.\n",
    "                        noLegalMove = False # Bekräftar att det är ett giltigt drag.\n",
    "                        showBoard(board)\n",
    "                    else:\n",
    "                        print(\"\\nOgiltigt drag!\\n\")\n",
    "                else:\n",
    "                    print(\"\\nbip bop, bip bop\\n\")\n",
    "\n",
    "                    # Hämtar ut en lista med sannolikheter för ett motdrag givet ett specifikt board\n",
    "                    probability = policy[tuple(board)] \n",
    "                    \n",
    "                    # Baserat på sannolikheterna för ett visst motdrag, slumpas ett drag ur listan för tillgängliga drag\n",
    "                    move=numpy.random.choice(posibleMoves,p=probability) \n",
    "                        \n",
    "                    posibleMoves.remove(move) # Tar bort draget ur listan för tillgängliga drag.\n",
    "                    board[move] = player.get_marker() # Sätter ut spelarmarkering på brädet för det index som valts.\n",
    "                    noLegalMove = False # Bekräftar att det är ett giltigt drag.\n",
    "                    showBoard(board)\n",
    "                \n",
    "            if(testWin(board)):# Kollar om aktuell spelare vunnit\n",
    "                print(f\"\\n{player.name} vann!\\n\")\n",
    "                play = False\n",
    "                break\n",
    "\n",
    "            if(len(posibleMoves) == 0): # Kollar om de är slut på drag för matchen.\n",
    "                print(\"\\nSlut på drag!\")\n",
    "                print(\"Oavgjort!!\")\n",
    "                play = False\n",
    "                break"
   ]
  },
  {
   "cell_type": "code",
   "execution_count": 14,
   "id": "9c27363e",
   "metadata": {},
   "outputs": [],
   "source": [
    "#Metod som spelar två strategier mot varandra\n",
    "def playPolicyvsPolicy(pA,pB,runs,show=False):\n",
    "    \n",
    "    winner=[]\n",
    "    \n",
    "    for run in range(runs): \n",
    "    \n",
    "        board = emptyboard()\n",
    "        players =[]\n",
    "        posibleMoves = getDefultPosibleMoves()\n",
    "        play = True\n",
    "\n",
    "        players.append(Player(\"Player pA\"))\n",
    "        players[0].set_marker(1)\n",
    "\n",
    "        players.append(Player(\"Player pB\"))\n",
    "        players[1].set_marker(2)\n",
    "        \n",
    "        if show:\n",
    "            showBoard(board)\n",
    "\n",
    "        while(play):\n",
    "            for player in players:      \n",
    "                \n",
    "                if show:\n",
    "                    print(f\"\\n{player.name} bip bop, bip bop\\n\")\n",
    "\n",
    "                if(player.name == \"Player pA\"):\n",
    "                    probability = pA[tuple(board)]\n",
    "                else:\n",
    "                    probability = pB[tuple(board)]\n",
    "\n",
    "                move=numpy.random.choice(posibleMoves,p=probability)\n",
    "                posibleMoves.remove(move)\n",
    "                board[move] = player.get_marker()\n",
    "                if show:\n",
    "                    showBoard(board)\n",
    "\n",
    "\n",
    "                if(testWin(board)):\n",
    "                    if show:\n",
    "                        if(player.name == \"Player pA\" and show):\n",
    "                            showBoard(board)\n",
    "                            print(f\"\\n{player.name} vann!\\n\")\n",
    "                    play = False\n",
    "                    winner.append(player.get_marker())\n",
    "                    break\n",
    "\n",
    "                if(len(posibleMoves) == 0):\n",
    "                    winner.append(0)\n",
    "                    if show:\n",
    "                        print(\"\\nSlut på drag!\")\n",
    "                        print(\"Oavgjort!!\")\n",
    "                    play = False\n",
    "                    break    \n",
    "    return winner"
   ]
  },
  {
   "cell_type": "code",
   "execution_count": 15,
   "id": "c49caa8f",
   "metadata": {},
   "outputs": [],
   "source": [
    "#Metod som \"tränar\" parameter pB (policy) medhjälp av parameter pA (policy)\n",
    "def trainPolicyB(pA,pB, runs):\n",
    "    \n",
    "    learnRate= 0.01 # \"Belöning\" för de drag som leder till vinst/oavgjort\n",
    "    punishment= 0.001 # \"Straff\" för de drag som leder till förlust\n",
    "    \n",
    "    for run in range(runs):\n",
    "        winner =\"\" # Variabel för att veta vem som vann.\n",
    "        playedBoards={\"pB\":[] , \"probabilityIndex\":[]} # Historik för spelets boards och dess motdrag. Gäller endast pB.\n",
    "        \n",
    "        board = emptyboard()\n",
    "        players =[]\n",
    "        posibleMoves = getDefultPosibleMoves()\n",
    "        play = True\n",
    "\n",
    "        players.append(Player(\"Player pA\"))\n",
    "        players[0].set_marker(1)\n",
    "\n",
    "        players.append(Player(\"Player pB\"))\n",
    "        players[1].set_marker(2)\n",
    "        \n",
    "        while(play):\n",
    "            for player in players:\n",
    "                \n",
    "                if(player.name == \"Player pB\"):\n",
    "                    probability = pB[tuple(board)]\n",
    "                    playedBoards[\"pB\"].append(copy.deepcopy(board)) # Kopierar nuvarande board till historiken.\n",
    "                    move=numpy.random.choice(posibleMoves,p=probability) \n",
    "                    \n",
    "                    #Sparar indexet som valdes ur possibleMoves till historiken.\n",
    "                    playedBoards[\"probabilityIndex\"].append(posibleMoves.index(move))\n",
    "                else:\n",
    "                    probability = pA[tuple(board)]    \n",
    "                    move=numpy.random.choice(posibleMoves,p=probability)\n",
    "\n",
    "    \n",
    "                posibleMoves.remove(move)\n",
    "                board[move] = player.get_marker()\n",
    "                \n",
    "                if(testWin(board)):\n",
    "                    play = False\n",
    "                    winner = player.name\n",
    "                    break\n",
    "\n",
    "                if(len(posibleMoves) == 0):\n",
    "                    winner = \"Oavgjort\"\n",
    "                    play = False\n",
    "                    break \n",
    "        \n",
    "        #tränar policyn efter varje avklarat spel. \n",
    "        \n",
    "        if players[1].name in winner or \"Oavgjort\" in winner: \n",
    "        #Om \"vi\" vann eller spelade ovagjort så förstärks valen som ledde fram till resultatet\n",
    "            for i in range(len(playedBoards[\"pB\"])):\n",
    "                index = playedBoards[\"probabilityIndex\"][i] #\n",
    "                board = playedBoards[\"pB\"][i]\n",
    "                prob = pB[tuple(board)]\n",
    "                prob[index] += learnRate # Ökar sannolikheten för de drag som lett till vinst/draw\n",
    "                prob/=prob.sum() # Normaliserar sannolikheterna efter redigering\n",
    "        else:\n",
    "        #Om \"vi\" förlorade så \"straffas\" valen som ledde fram till resultatet\n",
    "            for i in range(len(playedBoards[\"pB\"])):\n",
    "                index = playedBoards[\"probabilityIndex\"][i]\n",
    "                board = playedBoards[\"pB\"][i]\n",
    "                prob = pB[tuple(board)]\n",
    "                if ((prob[index] - punishment) >=0): # kollar att en förändring av sannolikheterna inte bli lägre än 0.\n",
    "                    prob[index] -= punishment # Minskar sannolikheten för de drag som lett till förlust.\n",
    "                    prob/=prob.sum() # Normaliserar sannolikheterna efter redigering."
   ]
  },
  {
   "cell_type": "code",
   "execution_count": 16,
   "id": "10f90ede",
   "metadata": {},
   "outputs": [],
   "source": [
    "#Metod som visualiserar statistik\n",
    "def showStats(stats, nrOfGames):\n",
    "    print(\"Wins: \",stats.count(2))\n",
    "    print(\"Draws: \",stats.count(0))\n",
    "    print(\"Losses: \", stats.count(1))\n",
    "    print(f\"Loss %: {(stats.count(1)/len(stats))*100}\")\n",
    "\n",
    "    plt.scatter(y=stats, x=range(nrOfGames))\n",
    "    plt.title(\"Stats\")\n",
    "    plt.xlabel(\"Number of games\")\n",
    "    plt.ylabel(\"0= Draws                                 \\n1= Losses                                \\n2= Wins                                   \",rotation=0)\n",
    "    plt.show()\n",
    "    "
   ]
  },
  {
   "cell_type": "code",
   "execution_count": 17,
   "id": "0e0738b5",
   "metadata": {},
   "outputs": [
    {
     "name": "stdout",
     "output_type": "stream",
     "text": [
      "randomStrategy len: 4520\n"
     ]
    }
   ],
   "source": [
    "#Skapar en variabel med en randomStrategy \n",
    "randomStrategy =makeRandomStrategy()"
   ]
  },
  {
   "cell_type": "code",
   "execution_count": 18,
   "id": "a2b25a08",
   "metadata": {},
   "outputs": [
    {
     "name": "stdout",
     "output_type": "stream",
     "text": [
      "Wins:  0\n",
      "Draws:  356\n",
      "Losses:  9644\n",
      "Loss %: 96.44\n"
     ]
    },
    {
     "data": {
      "image/png": "[encoded data removed]",
      "text/plain": [
       "<Figure size 640x480 with 1 Axes>"
      ]
     },
     "metadata": {},
     "output_type": "display_data"
    }
   ],
   "source": [
    "#Kopierar randomStrategy och spelar den mot perfectPolicy\n",
    "testRuns = 10000\n",
    "ourRandomStrat = copy.deepcopy(randomStrategy)\n",
    "result = playPolicyvsPolicy(perfectPolicy,ourRandomStrat,testRuns)\n",
    "showStats(result, testRuns)"
   ]
  },
  {
   "cell_type": "code",
   "execution_count": 19,
   "id": "36aeff83",
   "metadata": {},
   "outputs": [],
   "source": [
    "#Kopierar randomStrategy till ourTrainedStrat och tränar den mot randomStrategy \"runs\" gånger\n",
    "runs = 500000\n",
    "ourTrainedStrat = copy.deepcopy(randomStrategy)\n",
    "trainPolicyB(randomStrategy,ourTrainedStrat,runs)"
   ]
  },
  {
   "cell_type": "code",
   "execution_count": 20,
   "id": "4b3a39d4",
   "metadata": {},
   "outputs": [
    {
     "name": "stdout",
     "output_type": "stream",
     "text": [
      "Wins:  0\n",
      "Draws:  9975\n",
      "Losses:  25\n",
      "Loss %: 0.25\n"
     ]
    },
    {
     "data": {
      "image/png": "[encoded data removed]",
      "text/plain": [
       "<Figure size 640x480 with 1 Axes>"
      ]
     },
     "metadata": {},
     "output_type": "display_data"
    }
   ],
   "source": [
    "#Låter ourTrainedStrat spela \"testRuns\" antal spel mot perfectPolicy och visar uttfallet \n",
    "result = playPolicyvsPolicy(perfectPolicy,ourTrainedStrat,testRuns)\n",
    "showStats(result, testRuns)"
   ]
  },
  {
   "cell_type": "code",
   "execution_count": 21,
   "id": "2eabf1a5",
   "metadata": {},
   "outputs": [
    {
     "name": "stdout",
     "output_type": "stream",
     "text": [
      "Wins:  6771\n",
      "Draws:  3216\n",
      "Losses:  13\n",
      "Loss %: 0.13\n"
     ]
    },
    {
     "data": {
      "image/png": "[encoded data removed]",
      "text/plain": [
       "<Figure size 640x480 with 1 Axes>"
      ]
     },
     "metadata": {},
     "output_type": "display_data"
    }
   ],
   "source": [
    "#Låter ourTrainedStrat spela \"testRuns\" antal spel mot randomStrategy och visar uttfallet\n",
    "result = playPolicyvsPolicy(randomStrategy,ourTrainedStrat,testRuns)\n",
    "showStats(result, testRuns)"
   ]
  },
  {
   "cell_type": "code",
   "execution_count": 22,
   "id": "51230adb",
   "metadata": {},
   "outputs": [
    {
     "name": "stdout",
     "output_type": "stream",
     "text": [
      "Ange namn på spelare 1: vic\n",
      "    0   1   2   \n",
      "  -------------\n",
      "0 | . | . | . |\n",
      "  ----+---+----\n",
      "1 | . | . | . |\n",
      "  ----+---+----\n",
      "2 | . | . | . |\n",
      "  -------------\n",
      "vic var vill du sätta din markering? (rad, kolumn): 1,1\n",
      "    0   1   2   \n",
      "  -------------\n",
      "0 | . | . | . |\n",
      "  ----+---+----\n",
      "1 | . | O | . |\n",
      "  ----+---+----\n",
      "2 | . | . | . |\n",
      "  -------------\n",
      "\n",
      "bip bop, bip bop\n",
      "\n",
      "    0   1   2   \n",
      "  -------------\n",
      "0 | . | . | X |\n",
      "  ----+---+----\n",
      "1 | . | O | . |\n",
      "  ----+---+----\n",
      "2 | . | . | . |\n",
      "  -------------\n",
      "vic var vill du sätta din markering? (rad, kolumn): 2,0\n",
      "    0   1   2   \n",
      "  -------------\n",
      "0 | . | . | X |\n",
      "  ----+---+----\n",
      "1 | . | O | . |\n",
      "  ----+---+----\n",
      "2 | O | . | . |\n",
      "  -------------\n",
      "\n",
      "bip bop, bip bop\n",
      "\n",
      "    0   1   2   \n",
      "  -------------\n",
      "0 | . | . | X |\n",
      "  ----+---+----\n",
      "1 | . | O | . |\n",
      "  ----+---+----\n",
      "2 | O | . | X |\n",
      "  -------------\n",
      "vic var vill du sätta din markering? (rad, kolumn): 1,2\n",
      "    0   1   2   \n",
      "  -------------\n",
      "0 | . | . | X |\n",
      "  ----+---+----\n",
      "1 | . | O | O |\n",
      "  ----+---+----\n",
      "2 | O | . | X |\n",
      "  -------------\n",
      "\n",
      "bip bop, bip bop\n",
      "\n",
      "    0   1   2   \n",
      "  -------------\n",
      "0 | . | . | X |\n",
      "  ----+---+----\n",
      "1 | X | O | O |\n",
      "  ----+---+----\n",
      "2 | O | . | X |\n",
      "  -------------\n",
      "vic var vill du sätta din markering? (rad, kolumn): 0,1\n",
      "    0   1   2   \n",
      "  -------------\n",
      "0 | . | O | X |\n",
      "  ----+---+----\n",
      "1 | X | O | O |\n",
      "  ----+---+----\n",
      "2 | O | . | X |\n",
      "  -------------\n",
      "\n",
      "bip bop, bip bop\n",
      "\n",
      "    0   1   2   \n",
      "  -------------\n",
      "0 | . | O | X |\n",
      "  ----+---+----\n",
      "1 | X | O | O |\n",
      "  ----+---+----\n",
      "2 | O | X | X |\n",
      "  -------------\n",
      "vic var vill du sätta din markering? (rad, kolumn): 0,0\n",
      "    0   1   2   \n",
      "  -------------\n",
      "0 | O | O | X |\n",
      "  ----+---+----\n",
      "1 | X | O | O |\n",
      "  ----+---+----\n",
      "2 | O | X | X |\n",
      "  -------------\n",
      "\n",
      "Slut på drag!\n",
      "Oavgjort!!\n"
     ]
    }
   ],
   "source": [
    "singelVsPolicy(ourTrainedStrat)"
   ]
  },
  {
   "cell_type": "code",
   "execution_count": 23,
   "id": "3233b842",
   "metadata": {},
   "outputs": [
    {
     "name": "stdout",
     "output_type": "stream",
     "text": [
      "Ange namn på spelare 1: vic\n",
      "Ange namn på spelare 2: Dad\n",
      "    0   1   2   \n",
      "  -------------\n",
      "0 | . | . | . |\n",
      "  ----+---+----\n",
      "1 | . | . | . |\n",
      "  ----+---+----\n",
      "2 | . | . | . |\n",
      "  -------------\n",
      "vic var vill du sätta din markering? (rad, kolumn): 2,2\n",
      "    0   1   2   \n",
      "  -------------\n",
      "0 | . | . | . |\n",
      "  ----+---+----\n",
      "1 | . | . | . |\n",
      "  ----+---+----\n",
      "2 | . | . | O |\n",
      "  -------------\n",
      "Dad var vill du sätta din markering? (rad, kolumn): 0,0\n",
      "    0   1   2   \n",
      "  -------------\n",
      "0 | X | . | . |\n",
      "  ----+---+----\n",
      "1 | . | . | . |\n",
      "  ----+---+----\n",
      "2 | . | . | O |\n",
      "  -------------\n",
      "vic var vill du sätta din markering? (rad, kolumn): 1,1\n",
      "    0   1   2   \n",
      "  -------------\n",
      "0 | X | . | . |\n",
      "  ----+---+----\n",
      "1 | . | O | . |\n",
      "  ----+---+----\n",
      "2 | . | . | O |\n",
      "  -------------\n",
      "Dad var vill du sätta din markering? (rad, kolumn): 2,0\n",
      "    0   1   2   \n",
      "  -------------\n",
      "0 | X | . | . |\n",
      "  ----+---+----\n",
      "1 | . | O | . |\n",
      "  ----+---+----\n",
      "2 | X | . | O |\n",
      "  -------------\n",
      "vic var vill du sätta din markering? (rad, kolumn): 1,0\n",
      "    0   1   2   \n",
      "  -------------\n",
      "0 | X | . | . |\n",
      "  ----+---+----\n",
      "1 | O | O | . |\n",
      "  ----+---+----\n",
      "2 | X | . | O |\n",
      "  -------------\n",
      "Dad var vill du sätta din markering? (rad, kolumn): 1,2\n",
      "    0   1   2   \n",
      "  -------------\n",
      "0 | X | . | . |\n",
      "  ----+---+----\n",
      "1 | O | O | X |\n",
      "  ----+---+----\n",
      "2 | X | . | O |\n",
      "  -------------\n",
      "vic var vill du sätta din markering? (rad, kolumn): 0,1\n",
      "    0   1   2   \n",
      "  -------------\n",
      "0 | X | O | . |\n",
      "  ----+---+----\n",
      "1 | O | O | X |\n",
      "  ----+---+----\n",
      "2 | X | . | O |\n",
      "  -------------\n",
      "Dad var vill du sätta din markering? (rad, kolumn): 2,1\n",
      "    0   1   2   \n",
      "  -------------\n",
      "0 | X | O | . |\n",
      "  ----+---+----\n",
      "1 | O | O | X |\n",
      "  ----+---+----\n",
      "2 | X | X | O |\n",
      "  -------------\n",
      "vic var vill du sätta din markering? (rad, kolumn): 0,2\n",
      "    0   1   2   \n",
      "  -------------\n",
      "0 | X | O | O |\n",
      "  ----+---+----\n",
      "1 | O | O | X |\n",
      "  ----+---+----\n",
      "2 | X | X | O |\n",
      "  -------------\n",
      "Slut på drag!\n",
      "Oavgjort!!\n"
     ]
    }
   ],
   "source": [
    "multyPlayer()"
   ]
  },
  {
   "cell_type": "code",
   "execution_count": null,
   "id": "db336e15",
   "metadata": {},
   "outputs": [],
   "source": []
  },
  {
   "cell_type": "code",
   "execution_count": null,
   "id": "8ba660ba",
   "metadata": {},
   "outputs": [],
   "source": []
  }
 ],
 "metadata": {
  "kernelspec": {
   "display_name": "Python 3 (ipykernel)",
   "language": "python",
   "name": "python3"
  },
  "language_info": {
   "codemirror_mode": {
    "name": "ipython",
    "version": 3
   },
   "file_extension": ".py",
   "mimetype": "text/x-python",
   "name": "python",
   "nbconvert_exporter": "python",
   "pygments_lexer": "ipython3",
   "version": "3.9.13"
  }
 },
 "nbformat": 4,
 "nbformat_minor": 5
}
