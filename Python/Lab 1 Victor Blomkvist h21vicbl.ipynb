{
 "cells": [
  {
   "cell_type": "markdown",
   "metadata": {},
   "source": [
    "# GMI26H HT23\n",
    "# Cryptography Compulsory Homework Lab 1"
   ]
  },
  {
   "cell_type": "markdown",
   "metadata": {},
   "source": [
    "### (c) Joonas Pääkkönen\n",
    "\n",
    "### You must upload your solutions in .ipynb format to Learn by Friday September 15th at 11:59 PM with your solutions added to this file."
   ]
  },
  {
   "cell_type": "markdown",
   "metadata": {},
   "source": [
    "Write your name and email below. Don't edit the header or the questions or anything else. Add your answers in text or code to cells below the questions."
   ]
  },
  {
   "cell_type": "raw",
   "metadata": {},
   "source": [
    "### Student name: Victor Blomkvist\n",
    "\n",
    "### DU email address: h21vicbl@du.se"
   ]
  },
  {
   "cell_type": "markdown",
   "metadata": {},
   "source": [
    "## Task 1"
   ]
  },
  {
   "cell_type": "markdown",
   "metadata": {},
   "source": [
    "a) All valid International Standard Book Number 13 (ISBN-13) numbers satisfy\n",
    "\n",
    "$$m \\equiv 0 \\text{ mod } 10,$$\n",
    "\n",
    "where\n",
    "\n",
    "$$m = x_1+3x_2+x_3+3x_4+x_5+3x_6+x_7+3x_8+x_9+3x_{10}+x_{11}+3x_{12}+x_{13}$$\n",
    "\n",
    "and $x_1$ is the first (leftmost) digit of positive integer $n$, $x_2$ is the second digit, and so on. For example, for $n=9781252434434$, $x_1=9$ and $x_2=7$, and so on.\n",
    "\n",
    "Use Python (and/or Sage) to define a function that checks whether or not a positive integer argument $n$ is a valid ISBN-13 number.\n",
    "\n",
    "The function should take only one argument, that is, the number $n$ (not $m$). The value of $m$ can be calculated with $n$ inside the function implementation. The function should return string \"Valid\" if $n$ is valid and string \"Invalid\" if $n$ is invalid. You can assume that $n$ is a 13-digit number."
   ]
  },
  {
   "cell_type": "code",
   "execution_count": 16,
   "metadata": {},
   "outputs": [
    {
     "name": "stdout",
     "output_type": "stream",
     "text": [
      "110\n",
      "VALID\n"
     ]
    }
   ],
   "source": [
    "#Write your code here for a)\n",
    "\n",
    "def Check_ISBN(n):\n",
    "    stringN = str(n) # Cast the integer input to a string\n",
    "    m = 0\n",
    "    if len(stringN) != 13: # Check if the string is 13 character long, if not return a error message.\n",
    "        return print(\"The lenght of ISBN number is not 13 characters long.\")\n",
    "    \n",
    "    for i in range(len(stringN)): # Loop through the lengt of the string variable\n",
    "        if i % 2 == 0: # Check if the index is even\n",
    "            m = m + int(stringN[i]) # Takes the string value at index \"i\", cast it to an int and add the integer value to \"m\"\n",
    "                \n",
    "        if i % 2 !=0: # Check if the index is odd\n",
    "            m = m + int(stringN[i])*3 # Takes the string value at index \"i\", cast it to an int, multiply the value with 3 and add the integer value to \"m\"\n",
    "        \n",
    "    \n",
    "    print(m)\n",
    "    if m %  10 == 0: # Check if the final value \"m\" mod 10 = 0\n",
    "        print(\"VALID\")\n",
    "        \n",
    "    else: \n",
    "        print(\"INVALID\")\n",
    "\n",
    "Check_ISBN(9780136707226)\n",
    "        \n",
    "        \n",
    "\n"
   ]
  },
  {
   "cell_type": "markdown",
   "metadata": {},
   "source": [
    "b) Use the function that you just wrote to verify that $n=9781252434434$ is invalid."
   ]
  },
  {
   "cell_type": "code",
   "execution_count": 17,
   "metadata": {},
   "outputs": [
    {
     "name": "stdout",
     "output_type": "stream",
     "text": [
      "104\n",
      "INVALID\n"
     ]
    }
   ],
   "source": [
    "#Write your code here for b)\n",
    "Check_ISBN(9781252434434)"
   ]
  },
  {
   "cell_type": "markdown",
   "metadata": {},
   "source": [
    "c) Use the function that you just wrote to verify that the ISBN-13 number of the course book \"Stallings, W. (2022). Cryptography and Network Security: Principles and Practice, Global Edition. Pearson\" is valid."
   ]
  },
  {
   "cell_type": "code",
   "execution_count": 18,
   "metadata": {},
   "outputs": [
    {
     "name": "stdout",
     "output_type": "stream",
     "text": [
      "110\n",
      "VALID\n"
     ]
    }
   ],
   "source": [
    "#Write your code here for c)\n",
    "Check_ISBN(9780136707226)"
   ]
  },
  {
   "cell_type": "markdown",
   "metadata": {},
   "source": [
    "d) Use the function that to check if $n=9781255554434$ valid."
   ]
  },
  {
   "cell_type": "code",
   "execution_count": 19,
   "metadata": {},
   "outputs": [
    {
     "name": "stdout",
     "output_type": "stream",
     "text": [
      "112\n",
      "INVALID\n"
     ]
    }
   ],
   "source": [
    "#Write your code here for d)\n",
    "Check_ISBN(9781255554434)"
   ]
  },
  {
   "cell_type": "markdown",
   "metadata": {},
   "source": [
    "## Task 2"
   ]
  },
  {
   "cell_type": "markdown",
   "metadata": {},
   "source": [
    "In modular arithmetic, positive integer $g$ is called a primitive root of prime $p$ if every number $a$, with $1\\leq a < n$, is congruent to a power of $g$ modulo $p$.\n",
    "\n",
    "For example, $2$ is a primitive root of $5$ because for all $a$ with $1\\leq a < 5$ coprime to $5$, that is, for numbers $a=1$, $a=2$, $a=3$, and $a=4$, there exists an $i$ such that a power of $2$ (a number $2^i$) is congruent to $a$ as\n",
    "\n",
    "$$2^1 \\equiv 2 \\text{ mod } 5,$$\n",
    "$$2^2 \\equiv 4 \\text{ mod } 5,$$\n",
    "$$2^3 \\equiv 3 \\text{ mod } 5,$$\n",
    "$$2^4 \\equiv 1 \\text{ mod } 5.$$\n",
    "\n",
    "For $a=1$, $i=4$. For $a=2$, $i=1$. For $a=3$, $i=3$. For $a=4$, $i=2$.\n",
    "\n",
    "a) Use Python (and/or Sage) to write a program that prints the first $12$ powers of $11$ modulo $13$:\n",
    "\n",
    "$$11^i \\text{ mod } 13$$\n",
    "\n",
    "(where $i$ goes from $1$ to $12$) and explain why $11$ is a primitive root of $13$ by examining the printout."
   ]
  },
  {
   "cell_type": "code",
   "execution_count": 20,
   "metadata": {},
   "outputs": [
    {
     "name": "stdout",
     "output_type": "stream",
     "text": [
      "11^1 ≡ 11 % 13\n",
      "11^2 ≡ 4 % 13\n",
      "11^3 ≡ 5 % 13\n",
      "11^4 ≡ 3 % 13\n",
      "11^5 ≡ 7 % 13\n",
      "11^6 ≡ 12 % 13\n",
      "11^7 ≡ 2 % 13\n",
      "11^8 ≡ 9 % 13\n",
      "11^9 ≡ 8 % 13\n",
      "11^10 ≡ 10 % 13\n",
      "11^11 ≡ 6 % 13\n",
      "11^12 ≡ 1 % 13\n"
     ]
    }
   ],
   "source": [
    "#your code here\n",
    "def primative_root():\n",
    "    for i in range(1, 13):\n",
    "        a = 11**i % 13\n",
    "        print(f'11^{i} ≡ {a} % 13')\n",
    "        \n",
    "primative_root()"
   ]
  },
  {
   "cell_type": "markdown",
   "metadata": {},
   "source": [
    "Your explanation here: \n",
    "\n",
    "11 is a primative root of 13 because all $\"a\"$, when $1\\leq a < 13$, exists in the nonzero residue class of 13 ($Z_{13}$).\n",
    "That means, there exist an $\"i\"$, when $1\\leq i < 13$ that will result in an unique value for $\"a\"$. Such that, $11^i$ is congurent to $a$:\n",
    "$$11^1 \\equiv 11 \\text{ mod } 13,$$\n",
    "$$11^2 \\equiv 4 \\text{ mod } 13,$$\n",
    "$$11^3 \\equiv 5 \\text{ mod } 13,$$\n",
    "$$11^4 \\equiv 3 \\text{ mod } 13.$$\n",
    "$$11^5 \\equiv 7 \\text{ mod } 13.$$\n",
    "$$11^6 \\equiv 12 \\text{ mod } 13.$$\n",
    "$$11^7 \\equiv 2 \\text{ mod } 13.$$\n",
    "$$11^8 \\equiv 9 \\text{ mod } 13.$$\n",
    "$$11^9 \\equiv 8 \\text{ mod } 13.$$\n",
    "$$11^{10} \\equiv 10 \\text{ mod } 13.$$\n",
    "$$11^{11} \\equiv 6 \\text{ mod } 13.$$\n",
    "$$11^{12} \\equiv 1 \\text{ mod } 13.$$"
   ]
  },
  {
   "cell_type": "markdown",
   "metadata": {},
   "source": [
    "## Task 3"
   ]
  },
  {
   "cell_type": "markdown",
   "metadata": {},
   "source": [
    "Let $n=pq$, where $p=43$ and $q=79$. Write a snippet of Python (and/or Sage) code that solves\n",
    "\n",
    "$$2381 = 47^i \\text{ mod } n$$\n",
    "\n",
    "for $i$. In other words, your program needs to find $i$ so that the above expression is satisfied. You can use a for-loop."
   ]
  },
  {
   "cell_type": "code",
   "execution_count": 21,
   "metadata": {},
   "outputs": [
    {
     "name": "stdout",
     "output_type": "stream",
     "text": [
      "the value of \"n\" is 3397\n",
      "1\n",
      "2\n",
      "3\n",
      "4\n",
      "5\n",
      "6\n",
      "7\n",
      "8\n",
      "9\n",
      "10\n",
      "11\n",
      "12\n",
      "13\n",
      "14\n",
      "15\n",
      "16\n",
      "17\n",
      "18\n",
      "19\n",
      "20\n",
      "21\n",
      "22\n",
      "23\n",
      "24\n",
      "25\n",
      "26\n",
      "27\n",
      "28\n",
      "29\n",
      "30\n",
      "31\n",
      "32\n",
      "33\n",
      "34\n",
      "35\n",
      "36\n",
      "37\n",
      "38\n",
      "39\n",
      "40\n",
      "41\n",
      "42\n",
      "43\n",
      "44\n",
      "45\n",
      "46\n",
      "47\n",
      "48\n",
      "49\n",
      "50\n",
      "51\n",
      "52\n",
      "53\n",
      "54\n",
      "55\n",
      "56\n",
      "57\n",
      "58\n",
      "we found a solution, the value of \"i\" = 58\n"
     ]
    }
   ],
   "source": [
    "#your code here\n",
    "\n",
    "def find_i(p,q,e):\n",
    "    n = p*q # calculate the mod value \"n\"\n",
    "    print(f'the value of \"n\" is {n}')\n",
    "    \n",
    "    for i in range(1, n): # Loop through the nonzero residue class of n, (1 to n-1)\n",
    "        print(i)\n",
    "        if (47**i % n == e): # Check if 47 to the power of \"i\" is equal to the expected value \"e\", in this case 2381.\n",
    "            print(f'we found a solution, the value of \"i\" = {i}') # If a solution is found, print out the value of \"i\"\n",
    "            break\n",
    "            \n",
    "    \n",
    "find_i(43,79,2381)"
   ]
  },
  {
   "cell_type": "code",
   "execution_count": null,
   "metadata": {},
   "outputs": [],
   "source": []
  }
 ],
 "metadata": {
  "kernelspec": {
   "display_name": "SageMath 9.3",
   "language": "sage",
   "name": "sagemath"
  },
  "language_info": {
   "codemirror_mode": {
    "name": "ipython",
    "version": 3
   },
   "file_extension": ".py",
   "mimetype": "text/x-python",
   "name": "python",
   "nbconvert_exporter": "python",
   "pygments_lexer": "ipython3",
   "version": "3.7.10"
  }
 },
 "nbformat": 4,
 "nbformat_minor": 5
}
